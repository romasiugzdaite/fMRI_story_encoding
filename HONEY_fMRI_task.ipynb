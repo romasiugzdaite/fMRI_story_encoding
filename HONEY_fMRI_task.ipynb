{
  "nbformat": 4,
  "nbformat_minor": 0,
  "metadata": {
    "colab": {
      "provenance": [],
      "authorship_tag": "ABX9TyOgZkJdHgMm10MsnA+KlTEC",
      "include_colab_link": true
    },
    "kernelspec": {
      "name": "python3",
      "display_name": "Python 3"
    },
    "language_info": {
      "name": "python"
    }
  },
  "cells": [
    {
      "cell_type": "markdown",
      "metadata": {
        "id": "view-in-github",
        "colab_type": "text"
      },
      "source": [
        "<a href=\"https://colab.research.google.com/github/romasiugzdaite/fMRI_story_encoding/blob/main/HONEY_fMRI_task.ipynb\" target=\"_parent\"><img src=\"https://colab.research.google.com/assets/colab-badge.svg\" alt=\"Open In Colab\"/></a>"
      ]
    },
    {
      "cell_type": "code",
      "execution_count": null,
      "metadata": {
        "id": "2RNKkel1Gmj2"
      },
      "outputs": [],
      "source": []
    },
    {
      "cell_type": "markdown",
      "source": [
        "# Data organization, preprocessing and encoding steps\n",
        "\n",
        "1. Step. Read the data\n",
        "\n"
      ],
      "metadata": {
        "id": "x9H6RycYGtgF"
      }
    },
    {
      "cell_type": "code",
      "source": [
        "!git clone https://github.com/romasiugzdaite/fMRI_story_encoding.git"
      ],
      "metadata": {
        "id": "aS2vUetBG-Sy",
        "colab": {
          "base_uri": "https://localhost:8080/"
        },
        "outputId": "5770aab6-632b-4fe3-8611-0dffcf874fcb"
      },
      "execution_count": 36,
      "outputs": [
        {
          "output_type": "stream",
          "name": "stdout",
          "text": [
            "Cloning into 'fMRI_story_encoding'...\n",
            "remote: Enumerating objects: 137, done.\u001b[K\n",
            "remote: Counting objects: 100% (137/137), done.\u001b[K\n",
            "remote: Compressing objects: 100% (125/125), done.\u001b[K\n",
            "remote: Total 137 (delta 60), reused 0 (delta 0), pack-reused 0 (from 0)\u001b[K\n",
            "Receiving objects: 100% (137/137), 197.94 KiB | 1.88 MiB/s, done.\n",
            "Resolving deltas: 100% (60/60), done.\n"
          ]
        }
      ]
    },
    {
      "cell_type": "markdown",
      "source": [
        "\n",
        "2. Step. Preprocess data using fmriprep"
      ],
      "metadata": {
        "id": "8cbf5EMiG_4F"
      }
    },
    {
      "cell_type": "code",
      "source": [
        "%cd fMRI_story_encoding\n"
      ],
      "metadata": {
        "id": "IuWCme2WHEBP",
        "colab": {
          "base_uri": "https://localhost:8080/"
        },
        "outputId": "ce33e906-54b6-47ad-a490-5f7f0c2f4c5f"
      },
      "execution_count": 37,
      "outputs": [
        {
          "output_type": "stream",
          "name": "stdout",
          "text": [
            "/content/fMRI_story_encoding/data/sub-001/anat/fMRI_story_encoding/data/sub-001/fMRI_story_encoding\n"
          ]
        }
      ]
    },
    {
      "cell_type": "markdown",
      "source": [
        "\n",
        "3. Step. Organizing data and creating model"
      ],
      "metadata": {
        "id": "XRpbni90HNC3"
      }
    },
    {
      "cell_type": "code",
      "source": [
        "!ls"
      ],
      "metadata": {
        "id": "gi5kghKZHXll",
        "colab": {
          "base_uri": "https://localhost:8080/"
        },
        "outputId": "d88feedf-8255-44d2-daa4-68f2977cbd0e"
      },
      "execution_count": 14,
      "outputs": [
        {
          "output_type": "stream",
          "name": "stdout",
          "text": [
            "data  dataset_description.json\tHONEY_fMRI_task.ipynb  participants.tsv  README.md\n"
          ]
        }
      ]
    },
    {
      "cell_type": "markdown",
      "source": [
        "\n",
        "4. Step. Evaluation the model"
      ],
      "metadata": {
        "id": "SVRNO4TsHYEx"
      }
    },
    {
      "cell_type": "code",
      "source": [
        "!sudo apt-get install pathlib, h5py, tables, numpy, fsl"
      ],
      "metadata": {
        "id": "VTEN6VVrHbn0",
        "colab": {
          "base_uri": "https://localhost:8080/"
        },
        "outputId": "7bd36daa-ba34-48ab-84ad-a3d0e6cb5cd1"
      },
      "execution_count": 20,
      "outputs": [
        {
          "output_type": "stream",
          "name": "stdout",
          "text": [
            "Reading package lists... Done\n",
            "Building dependency tree... Done\n",
            "Reading state information... Done\n",
            "Package fsl is not available, but is referred to by another package.\n",
            "This may mean that the package is missing, has been obsoleted, or\n",
            "is only available from another source\n",
            "\n",
            "E: Unable to locate package pathlib,\n",
            "E: Unable to locate package h5py,\n",
            "E: Unable to locate package tables,\n",
            "E: Unable to locate package numpy,\n",
            "E: Package 'fsl' has no installation candidate\n"
          ]
        }
      ]
    },
    {
      "cell_type": "markdown",
      "source": [
        " 5.Step. Visualize model outcome"
      ],
      "metadata": {
        "id": "24lspeCEHcJH"
      }
    },
    {
      "cell_type": "code",
      "source": [
        "%cd data/sub-001/"
      ],
      "metadata": {
        "id": "YtONc2MKHfvx",
        "colab": {
          "base_uri": "https://localhost:8080/"
        },
        "outputId": "3ac3bb05-ce9b-43a0-ced5-cbb04454e6df"
      },
      "execution_count": 16,
      "outputs": [
        {
          "output_type": "stream",
          "name": "stdout",
          "text": [
            "/content/fMRI_story_encoding/data/sub-001/anat/fMRI_story_encoding/data/sub-001\n"
          ]
        }
      ]
    },
    {
      "cell_type": "code",
      "source": [
        "%cd anat/"
      ],
      "metadata": {
        "id": "kwLfVEZJy-pa",
        "outputId": "8ace7aea-8aa8-4b88-9f73-c1ae6727074a",
        "colab": {
          "base_uri": "https://localhost:8080/"
        }
      },
      "execution_count": 17,
      "outputs": [
        {
          "output_type": "stream",
          "name": "stdout",
          "text": [
            "/content/fMRI_story_encoding/data/sub-001/anat/fMRI_story_encoding/data/sub-001/anat\n"
          ]
        }
      ]
    },
    {
      "cell_type": "code",
      "source": [
        "%cd ..\n",
        "!ls\n"
      ],
      "metadata": {
        "id": "RHp62pKg5gpJ",
        "outputId": "925857a2-3d93-4b0e-8835-830b4c543bd3",
        "colab": {
          "base_uri": "https://localhost:8080/"
        }
      },
      "execution_count": 35,
      "outputs": [
        {
          "output_type": "stream",
          "name": "stdout",
          "text": [
            "/content/fMRI_story_encoding/data/sub-001/anat/fMRI_story_encoding/data/sub-001\n",
            "anat  func  text\n"
          ]
        }
      ]
    },
    {
      "cell_type": "markdown",
      "source": [
        "\n",
        "6. Step. Conclusions\n",
        "\n",
        "\n",
        "\n",
        "\n",
        "On MacOS I installed fsl using\n",
        "python3 ~/Downloads/fslinstaller.py\n",
        "\n",
        "Trying to see the anatomical, but it is not opening it neither here, nor directly from fsleyes. smth wrong with download of the file, it is only 400KB.\n",
        "\n",
        "sleyes sub-UTS01T1w.nii.gz\n"
      ],
      "metadata": {
        "id": "g4i_B5P_Hgff"
      }
    },
    {
      "cell_type": "code",
      "source": [
        " !python encoding/encoding.py --subject sub-001 --feature eng1000"
      ],
      "metadata": {
        "id": "LoBglJlqxebM",
        "outputId": "c2cdfefc-bf86-4ff5-d637-97b7a6c970a6",
        "colab": {
          "base_uri": "https://localhost:8080/",
          "height": 102
        }
      },
      "execution_count": 34,
      "outputs": [
        {
          "output_type": "error",
          "ename": "SyntaxError",
          "evalue": "invalid syntax (<ipython-input-34-a8e453bbb848>, line 1)",
          "traceback": [
            "\u001b[0;36m  File \u001b[0;32m\"<ipython-input-34-a8e453bbb848>\"\u001b[0;36m, line \u001b[0;32m1\u001b[0m\n\u001b[0;31m    fsleyes sub-UTS01T1w.nii.gz\u001b[0m\n\u001b[0m            ^\u001b[0m\n\u001b[0;31mSyntaxError\u001b[0m\u001b[0;31m:\u001b[0m invalid syntax\n"
          ]
        }
      ]
    }
  ]
}
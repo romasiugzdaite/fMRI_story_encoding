{
  "nbformat": 4,
  "nbformat_minor": 0,
  "metadata": {
    "colab": {
      "provenance": [],
      "authorship_tag": "ABX9TyNHLuw+FG8Ouseejgi0Kjzv",
      "include_colab_link": true
    },
    "kernelspec": {
      "name": "python3",
      "display_name": "Python 3"
    },
    "language_info": {
      "name": "python"
    }
  },
  "cells": [
    {
      "cell_type": "markdown",
      "metadata": {
        "id": "view-in-github",
        "colab_type": "text"
      },
      "source": [
        "<a href=\"https://colab.research.google.com/github/romasiugzdaite/fMRI_story_encoding/blob/main/HONEY_fMRI_task.ipynb\" target=\"_parent\"><img src=\"https://colab.research.google.com/assets/colab-badge.svg\" alt=\"Open In Colab\"/></a>"
      ]
    },
    {
      "cell_type": "code",
      "execution_count": null,
      "metadata": {
        "id": "2RNKkel1Gmj2"
      },
      "outputs": [],
      "source": []
    },
    {
      "cell_type": "markdown",
      "source": [
        "# Data organization, preprocessing and encoding steps\n",
        "\n",
        "1. Step. Read the data\n",
        "\n"
      ],
      "metadata": {
        "id": "x9H6RycYGtgF"
      }
    },
    {
      "cell_type": "code",
      "source": [
        "!git clone https://github.com/romasiugzdaite/fMRI_story_encoding.git"
      ],
      "metadata": {
        "id": "aS2vUetBG-Sy",
        "outputId": "cfa4c927-9a3e-4d9f-f722-c8406a124607",
        "colab": {
          "base_uri": "https://localhost:8080/"
        }
      },
      "execution_count": 1,
      "outputs": [
        {
          "output_type": "stream",
          "name": "stdout",
          "text": [
            "Cloning into 'fMRI_story_encoding'...\n",
            "remote: Enumerating objects: 84, done.\u001b[K\n",
            "remote: Counting objects: 100% (84/84), done.\u001b[K\n",
            "remote: Compressing objects: 100% (75/75), done.\u001b[K\n",
            "remote: Total 84 (delta 31), reused 0 (delta 0), pack-reused 0 (from 0)\u001b[K\n",
            "Receiving objects: 100% (84/84), 117.56 KiB | 1.28 MiB/s, done.\n",
            "Resolving deltas: 100% (31/31), done.\n"
          ]
        }
      ]
    },
    {
      "cell_type": "markdown",
      "source": [
        "\n",
        "2. Step. Preprocess data using fmriprep"
      ],
      "metadata": {
        "id": "8cbf5EMiG_4F"
      }
    },
    {
      "cell_type": "code",
      "source": [],
      "metadata": {
        "id": "IuWCme2WHEBP"
      },
      "execution_count": null,
      "outputs": []
    },
    {
      "cell_type": "markdown",
      "source": [
        "\n",
        "3. Step. Organizing data and creating model"
      ],
      "metadata": {
        "id": "XRpbni90HNC3"
      }
    },
    {
      "cell_type": "code",
      "source": [],
      "metadata": {
        "id": "gi5kghKZHXll"
      },
      "execution_count": null,
      "outputs": []
    },
    {
      "cell_type": "markdown",
      "source": [
        "\n",
        "4. Step. Evaluation the model"
      ],
      "metadata": {
        "id": "SVRNO4TsHYEx"
      }
    },
    {
      "cell_type": "code",
      "source": [],
      "metadata": {
        "id": "VTEN6VVrHbn0"
      },
      "execution_count": null,
      "outputs": []
    },
    {
      "cell_type": "markdown",
      "source": [
        " 5.Step. Visualize model outcome"
      ],
      "metadata": {
        "id": "24lspeCEHcJH"
      }
    },
    {
      "cell_type": "code",
      "source": [],
      "metadata": {
        "id": "YtONc2MKHfvx"
      },
      "execution_count": null,
      "outputs": []
    },
    {
      "cell_type": "markdown",
      "source": [
        "\n",
        "6. Step. Conclusions\n",
        "\n"
      ],
      "metadata": {
        "id": "g4i_B5P_Hgff"
      }
    }
  ]
}
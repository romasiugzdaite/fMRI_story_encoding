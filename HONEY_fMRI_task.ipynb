{
  "nbformat": 4,
  "nbformat_minor": 0,
  "metadata": {
    "colab": {
      "provenance": [],
      "authorship_tag": "ABX9TyPg0kBJI5fLMY6Rbl6pBuhy",
      "include_colab_link": true
    },
    "kernelspec": {
      "name": "python3",
      "display_name": "Python 3"
    },
    "language_info": {
      "name": "python"
    }
  },
  "cells": [
    {
      "cell_type": "markdown",
      "metadata": {
        "id": "view-in-github",
        "colab_type": "text"
      },
      "source": [
        "<a href=\"https://colab.research.google.com/github/romasiugzdaite/fMRI_story_encoding/blob/main/HONEY_fMRI_task.ipynb\" target=\"_parent\"><img src=\"https://colab.research.google.com/assets/colab-badge.svg\" alt=\"Open In Colab\"/></a>"
      ]
    },
    {
      "cell_type": "code",
      "execution_count": null,
      "metadata": {
        "id": "2RNKkel1Gmj2"
      },
      "outputs": [],
      "source": []
    },
    {
      "cell_type": "markdown",
      "source": [
        "# Data organization, preprocessing and encoding steps\n",
        "\n",
        "1. Step. Read the data\n",
        "\n"
      ],
      "metadata": {
        "id": "x9H6RycYGtgF"
      }
    },
    {
      "cell_type": "code",
      "source": [],
      "metadata": {
        "id": "aS2vUetBG-Sy"
      },
      "execution_count": null,
      "outputs": []
    },
    {
      "cell_type": "markdown",
      "source": [
        "\n",
        "2. Step. Preprocess data using fmriprep"
      ],
      "metadata": {
        "id": "8cbf5EMiG_4F"
      }
    },
    {
      "cell_type": "code",
      "source": [],
      "metadata": {
        "id": "IuWCme2WHEBP"
      },
      "execution_count": null,
      "outputs": []
    },
    {
      "cell_type": "markdown",
      "source": [
        "\n",
        "3. Step. Organizing data and creating model"
      ],
      "metadata": {
        "id": "XRpbni90HNC3"
      }
    },
    {
      "cell_type": "code",
      "source": [],
      "metadata": {
        "id": "gi5kghKZHXll"
      },
      "execution_count": null,
      "outputs": []
    },
    {
      "cell_type": "markdown",
      "source": [
        "\n",
        "4. Step. Evaluation the model"
      ],
      "metadata": {
        "id": "SVRNO4TsHYEx"
      }
    },
    {
      "cell_type": "code",
      "source": [],
      "metadata": {
        "id": "VTEN6VVrHbn0"
      },
      "execution_count": null,
      "outputs": []
    },
    {
      "cell_type": "markdown",
      "source": [
        " 5.Step. Visualize model outcome"
      ],
      "metadata": {
        "id": "24lspeCEHcJH"
      }
    },
    {
      "cell_type": "code",
      "source": [],
      "metadata": {
        "id": "YtONc2MKHfvx"
      },
      "execution_count": null,
      "outputs": []
    },
    {
      "cell_type": "markdown",
      "source": [
        "\n",
        "6. Step. Conclusions\n",
        "\n"
      ],
      "metadata": {
        "id": "g4i_B5P_Hgff"
      }
    }
  ]
}